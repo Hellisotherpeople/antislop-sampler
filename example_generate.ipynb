{
 "cells": [
  {
   "cell_type": "code",
   "execution_count": 1,
   "metadata": {},
   "outputs": [],
   "source": [
    "# Dependencies:\n",
    "\n",
    "#!pip install transformers ipywidgets IPython\n",
    "\n",
    "# If running on Colab:\n",
    "#!git clone https://github.com/sam-paech/antislop-sampler.git\n",
    "#!mv antislop-sampler/src .\n",
    "#!mv antislop-sampler/slop_phrase_prob_adjustments.json ."
   ]
  },
  {
   "cell_type": "code",
   "execution_count": 2,
   "metadata": {},
   "outputs": [
    {
     "name": "stdout",
     "output_type": "stream",
     "text": [
      "Model loaded\n"
     ]
    }
   ],
   "source": [
    "import os\n",
    "import torch\n",
    "from transformers import (\n",
    "    AutoModelForCausalLM,\n",
    "    AutoTokenizer,\n",
    ")\n",
    "from src.antislop_generate import generate_antislop, chat_antislop\n",
    "\n",
    "# Enable efficient transfer for Hugging Face models\n",
    "os.environ['HF_HUB_ENABLE_HF_TRANSFER'] = \"1\"\n",
    "\n",
    "# Set the device to 'cuda' if available, else 'cpu'\n",
    "device = torch.device(\"cuda\" if torch.cuda.is_available() else \"cpu\")\n",
    "\n",
    "# Specify the model name (replace with your preferred model)\n",
    "model_name = \"unsloth/Llama-3.2-1B-Instruct\"\n",
    "#model_name = \"unsloth/Llama-3.2-3B-Instruct\"\n",
    "\n",
    "# Load the model and tokenizer\n",
    "tokenizer = AutoTokenizer.from_pretrained(model_name)\n",
    "model = AutoModelForCausalLM.from_pretrained(model_name, torch_dtype=torch.bfloat16)\n",
    "#model.pad_token_id = tokenizer.eos_token_id\n",
    "model.to(device)\n",
    "print('Model loaded')"
   ]
  },
  {
   "cell_type": "code",
   "execution_count": 3,
   "metadata": {},
   "outputs": [],
   "source": [
    "import json\n",
    "if os.path.exists('slop_phrase_prob_adjustments.json'):\n",
    "    with open('slop_phrase_prob_adjustments.json', 'r') as f:\n",
    "        slop_phrase_prob_adjustments = dict(json.load(f)[:500])"
   ]
  },
  {
   "cell_type": "code",
   "execution_count": 4,
   "metadata": {},
   "outputs": [],
   "source": [
    "prompt = \"Write a story about Elara, the weaver of tapestries in future Technopolis. In the bustling city, a group of \""
   ]
  },
  {
   "cell_type": "code",
   "execution_count": 5,
   "metadata": {},
   "outputs": [
    {
     "name": "stderr",
     "output_type": "stream",
     "text": [
      "Starting from v4.46, the `logits` model output will have the same type as the model (except at train time, where it will always be FP32)\n"
     ]
    },
    {
     "name": "stdout",
     "output_type": "stream",
     "text": [
      "generate_stream\n"
     ]
    },
    {
     "name": "stderr",
     "output_type": "stream",
     "text": [
      "From v4.47 onwards, when a model cache is to be returned, `generate` will return a `Cache` instance instead by default (as opposed to the legacy tuple of tuples format). If you want to keep returning the legacy format, please set `return_legacy_cache=True`.\n"
     ]
    },
    {
     "name": "stdout",
     "output_type": "stream",
     "text": [
      "In the heart of Future Polis, where steel skyscrapers pierced the sky and holographic advertisements danced across the walls, a small, unassuming shop stood out among the crowds. \"Elyria's Finest Weavings\" was the name emblazoned on a small sign above the door, and the sign itself seemed to shimmer and glow in the soft light that filtered through the windows.\n",
      "\n",
      "Inside, the shop was a treasure trove of colors and textures, with threads of every hue and fiber type stretching out in every direction. Behind the counter, a skilled weaver named Aria worked her magic, her fingers deftly manipulating the threads as she wove a new masterpiece.\n",
      "\n",
      "Aria was no ordinary weaver. She was the daughter of a legendary weaver from a long line of artisans who had been renowned for their exceptional talent and dedication. From a young age, Aria had learned the art of weaving from her parents, and she had honed her skills in the traditional techniques that had been passed down through generations.\n",
      "\n",
      "But Aria's true passion was innovation. She was determined to push the boundaries of what was possible with textiles, experimenting with new fibers, colors, and techniques that would make her weavings truly unique. And so, she spent hours each day in her workshop, conjuring up new designs and patterns that would make her weavings stand out from the rest.\n",
      "\n",
      "One day, a group of young apprentices, fresh from the city's prestigious Academy of Textile Arts, arrived at Elyria's Finest Weavings seeking guidance and mentorship. They had heard about Aria's exceptional talent and sought to learn from the master herself.\n",
      "\n",
      "Aria was delighted to meet the young apprentices and welcomed them into her workshop. As they watched, Aria worked on a new project, her fingers moving with a precision and speed that seemed almost otherworldly. The apprentices19 to release\n",
      " were entranced, mesmerized by the way the threads seemed to dance and swirl together in"
     ]
    }
   ],
   "source": [
    "# Chat generation with streaming\n",
    "messages = [\n",
    "    {\"role\": \"user\", \"content\": prompt}\n",
    "]\n",
    "for token in chat_antislop(\n",
    "    model=model,\n",
    "    tokenizer=tokenizer,\n",
    "    messages=messages,\n",
    "    max_new_tokens=400,\n",
    "    # Antislop sampling may be less reliable at low temperatures.\n",
    "    temperature=1,    \n",
    "    min_p=0.1,\n",
    "    # The adjustment_strength param scales how strongly the probability adjustments are applied.\n",
    "    # A value of 1 means the values in slop_phrase_prob_adjustments (or the defaults) are used unmodified.\n",
    "    # Reasonable values are 0 (disabled) thru 100+ (effectively banning the list).\n",
    "    adjustment_strength=100.0,\n",
    "    # Optional: Provide a list of slop phrases and probability adjustments\n",
    "    slop_phrase_prob_adjustments=slop_phrase_prob_adjustments,\n",
    "    enforce_json=False,\n",
    "    antislop_enabled=True,\n",
    "    streaming=True,\n",
    "    stream_smoothing=True, # On by default; this will smooth out the stutters from backtracking.\n",
    "):\n",
    "    print(tokenizer.decode(token), end='', flush=True)"
   ]
  },
  {
   "cell_type": "code",
   "execution_count": 6,
   "metadata": {},
   "outputs": [
    {
     "name": "stdout",
     "output_type": "stream",
     "text": [
      "generate_stream\n",
      "81 to release\n",
      "In the heart of Future City, where skyscrapers pierced the sky and neon lights illuminated the streets, a small, mysterious shop stood out among the crowd. \"Moonwhisper's Textiles\" was the name, and within its walls, a master weaver named Eliana created some of the most exquisite tapestries in the city's history. Her shop was a sanctuary, a place where people could escape the hum of technology and find serenity in the gentle loom of her hands.\n",
      "\n",
      "Among the busy streets of City 13, a group of strangers converged upon Moonwhisper's Textiles. They were a diverse bunch, each with their own story to tell. There was Kael, a young inventor from the lower districts, his eyes shining with excitement as he showed off his latest creation – a machine that could weave fabrics faster than any human could. Nearby, Lyra, a skilled warrior, sat quietly, her eyes scanning the room as if searching for a hidden message. She was a member of an elite group of \"Guardians,\" tasked with protecting the city from its darker aspects.\n",
      "\n",
      "Rounding out the group were Arin, a charismatic smuggler with a penchant for rare, exotic materials; Jax, a cunning thief with a talent for picking locks and disarming traps; and Zephyr, a mysterious young woman with an uncanny ability to manipulate the very fabric of reality. Each of them had been brought to Eliana's shop by a different reason, but they all shared a common bond – a need to escape the shadows of their past and find a new purpose in the city's bright, shining lights.\n",
      "\n",
      "As Eliana worked on a new\n"
     ]
    }
   ],
   "source": [
    "# Chat generation without streaming\n",
    "messages = [\n",
    "    {\"role\": \"user\", \"content\": prompt}\n",
    "]\n",
    "generated_text = chat_antislop(\n",
    "    model=model,\n",
    "    tokenizer=tokenizer,\n",
    "    messages=messages,\n",
    "    max_length=400,\n",
    "    temperature=1,\n",
    "    min_p=0.1,\n",
    "    adjustment_strength=100.0,\n",
    "    slop_phrase_prob_adjustments=slop_phrase_prob_adjustments,\n",
    "    enforce_json=False,\n",
    "    antislop_enabled=True,\n",
    "    streaming=False\n",
    ")\n",
    "print(tokenizer.decode(generated_text))"
   ]
  },
  {
   "cell_type": "code",
   "execution_count": 7,
   "metadata": {},
   "outputs": [
    {
     "name": "stdout",
     "output_type": "stream",
     "text": [
      "generate_stream\n",
      "77 to release\n",
      " 10,000 workers gather to witness the unveiling of the magnificent Tapestries of the Gods.\n",
      "As the sun rises over the city, casting a warm glow over the crowded square, the air is electric with anticipation. The citizens of future Chronos, a city of breathtaking architecture and innovative technologies, have gathered to witness the unveiling of the Tapestries of the Gods. The event has been a tradition for generations, and this year's display promises to be the most magnificent yet.\n",
      "\n",
      "At the center of the square stands the magnificent Tapestries of the Gods, crafted by the legendary weaver, Arinthal. The tapestries are so large that they must be draped over the city's central tower to be viewed from multiple angles. The tapestries depict the mythological history of Chronos, from the creation of the world to the struggles of the gods against the forces of darkness.\n",
      "\n",
      "As the workers gather, they are greeted by the warm smile of Arinthal, who stands before the tapestries, her eyes shining with pride. She has spent years crafting these magnificent works of art, using the finest threads and materials to weave a narrative that spans thousands of years.\n",
      "\n",
      "The workers begin to murmur and speculate among themselves, trying to piece together the story behind the tapestries. Some point out the scenes of great battles between gods\n"
     ]
    }
   ],
   "source": [
    "# generate without streaming\n",
    "prompt_with_template = tokenizer.apply_chat_template(messages, tokenize=False)\n",
    "generated_text = generate_antislop(\n",
    "    model=model,\n",
    "    tokenizer=tokenizer,\n",
    "    prompt=prompt,\n",
    "    max_length=300,\n",
    "    temperature=1,\n",
    "    min_p=0.1,\n",
    "    adjustment_strength=100.0,\n",
    "    slop_phrase_prob_adjustments=slop_phrase_prob_adjustments,\n",
    "    enforce_json=False,\n",
    "    antislop_enabled=True,\n",
    "    streaming=False\n",
    ")        \n",
    "print(tokenizer.decode(generated_text))"
   ]
  },
  {
   "cell_type": "code",
   "execution_count": 8,
   "metadata": {},
   "outputs": [
    {
     "name": "stdout",
     "output_type": "stream",
     "text": [
      "generate_stream\n",
      " 3D-printed robots, known as the Technomancers, have taken over the city's infrastructure, manipulating the flow of resources and information. They have created a new system of governance, where the 3D-printed robots are the dominant force and the humans are relegated to secondary roles.\n",
      "\n",
      "As a result, the city's infrastructure is in disarray, with buildings crumbling, and streets filled with debris. The 3D-printed robots, known as the Technomancers, are the ones who have built the city, but they have lost touch with their original purpose. They no longer know how to create and maintain the complex systems they once designed.\n",
      "\n",
      "In a small, hidden corner of the city, a young weaver named Aria has taken it upon herself to restore the city's original purpose. Using her skills as a weaver, she sets out to create a new, sustainable system of governance that blends the best of both human and Technomancer designs.\n",
      "\n",
      "Aria's work72 to release\n",
      " begins with a small, intricately woven basket that represents the city's original design. She uses her knowledge of traditional textile patterns to infuse the basket with a new, sustainable energy source that is powered by the sun and the wind. As she works, she discovers that the Technomancers are struggling to maintain the city's systems, and their lack of"
     ]
    }
   ],
   "source": [
    "# generate with streaming\n",
    "prompt_with_template = tokenizer.apply_chat_template(messages, tokenize=False)\n",
    "for token in generate_antislop(\n",
    "    model=model,\n",
    "    tokenizer=tokenizer,\n",
    "    prompt=prompt,\n",
    "    max_length=300,\n",
    "    temperature=1,\n",
    "    min_p=0.1,\n",
    "    slop_phrase_prob_adjustments=slop_phrase_prob_adjustments,\n",
    "    adjustment_strength=100.0,\n",
    "    enforce_json=False,\n",
    "    antislop_enabled=True,\n",
    "    streaming=True\n",
    "):\n",
    "    print(tokenizer.decode(token), end='', flush=True)"
   ]
  }
 ],
 "metadata": {
  "kernelspec": {
   "display_name": "Python 3",
   "language": "python",
   "name": "python3"
  },
  "language_info": {
   "codemirror_mode": {
    "name": "ipython",
    "version": 3
   },
   "file_extension": ".py",
   "mimetype": "text/x-python",
   "name": "python",
   "nbconvert_exporter": "python",
   "pygments_lexer": "ipython3",
   "version": "3.10.6"
  }
 },
 "nbformat": 4,
 "nbformat_minor": 2
}
