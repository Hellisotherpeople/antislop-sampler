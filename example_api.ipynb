{
 "cells": [
  {
   "cell_type": "code",
   "execution_count": 5,
   "metadata": {},
   "outputs": [],
   "source": [
    "# First start the server:\n",
    "# python run_api.py --model unsloth/Llama-3.2-1B-Instruct\n",
    "# \n",
    "# Or with default slop phrase list (will be used by default with all queries):\n",
    "# python run_api.py --model unsloth/Llama-3.2-1B-Instruct --slop_adjustments_file slop_phrase_prob_adjustments.json"
   ]
  },
  {
   "cell_type": "code",
   "execution_count": 1,
   "metadata": {},
   "outputs": [
    {
     "name": "stdout",
     "output_type": "stream",
     "text": [
      "Once upon a time, in the Andes mountains of South America, there lived a young Andean shepherd named Kusi. Kusi lived in a small village surrounded by lush green hills and towering mountains. She was a skilled weaver and her warm woolen garments were famous throughout the region for their softness and warmth.\n",
      "\n",
      "One day, while out herding sheep, Kusi stumbled upon a mysterious and ancient cave. The entrance was hidden behind a thick veil of mist, and the air around it seemed to vibrate with an otherworldly energy. Intrigued, Kusi stepped inside, and as she did, she felt a strange sensation wash over her.\n",
      "\n",
      "Suddenly, a low, rumbling voice echoed through the cave, and Kusi saw a magnificent creature emerge from the shadows. It was a magical creature unlike any Kusi had ever seen – its fleece shimmered with an iridescent glow, and its eyes sparkled like the stars on a clear night.\n",
      "\n",
      "The creature introduced himself"
     ]
    }
   ],
   "source": [
    "import requests\n",
    "import json\n",
    "\n",
    "prompt = \"tell me a story about a magical llama\"\n",
    "api_url = 'http://localhost:8000/v1/chat/completions'\n",
    "\n",
    "messages = [{\"role\": \"user\", \"content\": prompt}]\n",
    "data = {    \n",
    "    \"messages\": messages,    \n",
    "    \"max_tokens\": 200,\n",
    "    \"temperature\": 1,\n",
    "    \"min_p\": 0.1,\n",
    "    \"stream\": True,\n",
    "    \"adjustment_strength\": 100,\n",
    "    \"slop_phrases\": [[\"a testament to\", 0.3], [\"llama\", 0.1]]\n",
    "}\n",
    "\n",
    "try:\n",
    "    # Using `stream=True` to handle the response as a stream of data\n",
    "    response = requests.post(api_url, json=data, stream=True, timeout=30)\n",
    "    #print(response)\n",
    "    \n",
    "    # Read and print the stream of data in chunks\n",
    "    for chunk in response.iter_lines():\n",
    "        if chunk:\n",
    "            decoded_chunk = chunk.decode('utf-8')\n",
    "            # OpenAI streams responses in `data: {json}` format, so we need to parse that\n",
    "            if decoded_chunk.startswith('data:'):\n",
    "                try:\n",
    "                    json_data = json.loads(decoded_chunk[len('data: '):])  # Remove 'data: ' prefix\n",
    "                    if 'choices' in json_data and len(json_data['choices']) > 0:\n",
    "                        print(json_data['choices'][0]['delta'].get('content', ''), end='', flush=True)\n",
    "                except json.JSONDecodeError as e:\n",
    "                    print(f\"Error decoding JSON: {e}\")\n",
    "except Exception as e:\n",
    "    print(f\"An error occurred: {e}\")\n"
   ]
  },
  {
   "cell_type": "code",
   "execution_count": 2,
   "metadata": {},
   "outputs": [
    {
     "name": "stdout",
     "output_type": "stream",
     "text": [
      "Once upon a time, in the Andes Mountains of South America, there lived a young llama named Luna. She was a rare breed, with soft, velvety fur that shone like the brightest stars in the night sky. Luna's fleece was said to hold the secrets of the universe, and she possessed a special gift – she could communicate with the spirits of the land.\n",
      "\n",
      "Luna's home was a small village nestled in the mountains, where she spent her days grazing on the lush grass and listening to the whispers of the wind. One day, a wise old shaman named Akira arrived at the village, seeking Luna's help. Akira had been searching for a magical llama, one who could bring balance and harmony to the village's troubled spirits.\n",
      "\n",
      "Akira told Luna that she possessed the power to heal the land, to calm the storms, and to bring peace to the village. But, Luna knew that her gift was not just about healing – it was also about connection.\n"
     ]
    }
   ],
   "source": [
    "try:\n",
    "    data = {    \n",
    "        \"messages\": messages,    \n",
    "        \"max_tokens\": 200,\n",
    "        \"temperature\": 1,\n",
    "        \"min_p\": 0.1,\n",
    "        \"stream\": False,\n",
    "        \"adjustment_strength\": 100,\n",
    "        \"slop_phrases\": [[\"a testament to\", 0.3], [\"kusi\", 0.1]]\n",
    "    }\n",
    "    \n",
    "    # Using `stream=True` to handle the response as a stream of data\n",
    "    response = requests.post(api_url, json=data, stream=False, timeout=30)\n",
    "    data = response.json()\n",
    "    print(data['choices'][0]['message']['content'])\n",
    "    #print(data['message'])\n",
    "    \n",
    "except Exception as e:\n",
    "    print(f\"An error occurred: {e}\")\n"
   ]
  },
  {
   "cell_type": "code",
   "execution_count": null,
   "metadata": {},
   "outputs": [],
   "source": []
  },
  {
   "cell_type": "code",
   "execution_count": 8,
   "metadata": {},
   "outputs": [
    {
     "name": "stdout",
     "output_type": "stream",
     "text": [
      "In the heart of the Andes, where the sun dipped into the horizon and painted the sky with hues of crimson and gold, there lived a magical llama named Luna. She was no ordinary llama, for she possessed a special gift – the ability to weave magic into the threads of her fleece.\n",
      "\n",
      "Luna lived on a small farm, surrounded by rolling hills and verdant forests. She spent her days roaming the countryside, exploring hidden streams and secret meadows. But it was at night, when the stars shone bright in the sky, that Luna's true magic was revealed.\n",
      "\n",
      "As she settled into her cozy little barn, Luna would wrap her fleece around her body, and with a gentle hum, the threads would begin to vibrate with an otherworldly energy. The fibers would shimmer and glow, casting a soft, ethereal light throughout the barn. The other animals, a wise old owl named Oberon and a playful rabbit named Rosie, would gather around Luna, mesmerized by the spectacle"
     ]
    }
   ],
   "source": [
    "# Default slop list example\n",
    "#\n",
    "# If the user hasn't specified a list of slop phrases & adjustments in their \n",
    "# query, then it will default to use whatever you specified in the\n",
    "# --slop_adjustments_file argument when launching the api.\n",
    "#\n",
    "# If you didn't specify anything, it won't make any adjustments unless the\n",
    "# user specifies their adjustments in their query.\n",
    "\n",
    "prompt = \"tell me a story about a magical llama\"\n",
    "api_url = 'http://localhost:8000/v1/chat/completions'\n",
    "\n",
    "messages = [{\"role\": \"user\", \"content\": prompt}]\n",
    "data = {    \n",
    "    \"messages\": messages,    \n",
    "    \"max_tokens\": 200,\n",
    "    \"temperature\": 1,\n",
    "    \"min_p\": 0.1,\n",
    "    \"stream\": True,\n",
    "    \"adjustment_strength\": 100,\n",
    "}\n",
    "\n",
    "try:\n",
    "    # Using `stream=True` to handle the response as a stream of data\n",
    "    response = requests.post(api_url, json=data, stream=True, timeout=30)\n",
    "    #print(response)\n",
    "    \n",
    "    # Read and print the stream of data in chunks\n",
    "    for chunk in response.iter_lines():\n",
    "        if chunk:\n",
    "            decoded_chunk = chunk.decode('utf-8')\n",
    "            # OpenAI streams responses in `data: {json}` format, so we need to parse that\n",
    "            if decoded_chunk.startswith('data:'):\n",
    "                try:\n",
    "                    json_data = json.loads(decoded_chunk[len('data: '):])  # Remove 'data: ' prefix\n",
    "                    if 'choices' in json_data and len(json_data['choices']) > 0:\n",
    "                        print(json_data['choices'][0]['delta'].get('content', ''), end='', flush=True)\n",
    "                except json.JSONDecodeError as e:\n",
    "                    print(f\"Error decoding JSON: {e}\")\n",
    "except Exception as e:\n",
    "    print(f\"An error occurred: {e}\")"
   ]
  }
 ],
 "metadata": {
  "kernelspec": {
   "display_name": "Python 3",
   "language": "python",
   "name": "python3"
  },
  "language_info": {
   "codemirror_mode": {
    "name": "ipython",
    "version": 3
   },
   "file_extension": ".py",
   "mimetype": "text/x-python",
   "name": "python",
   "nbconvert_exporter": "python",
   "pygments_lexer": "ipython3",
   "version": "3.10.6"
  }
 },
 "nbformat": 4,
 "nbformat_minor": 2
}
