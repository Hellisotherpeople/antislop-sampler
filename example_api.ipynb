{
 "cells": [
  {
   "cell_type": "code",
   "execution_count": 5,
   "metadata": {},
   "outputs": [],
   "source": [
    "# First start the server:\n",
    "# python run_api.py --model unsloth/Llama-3.2-1B-Instruct"
   ]
  },
  {
   "cell_type": "code",
   "execution_count": 6,
   "metadata": {},
   "outputs": [
    {
     "name": "stdout",
     "output_type": "stream",
     "text": [
      "<|start_header_id|>assistant<|end_header_id|>\n",
      "\n",
      "Once upon a time, in a small village nestled in the rolling hills of the Andes, there lived a magnificent mystical creature known as Kusi. Kusi was a soft-spoken, gentle giant with a coat as white as the driven snow and a fleece that shone like the stars on a clear night.\n",
      "\n",
      "The villagers had always known that Kusi was no ordinary animal. As a young calf, Kusi had been born with a special gift – the ability to communicate with the spirits of the land. From the moment she was born, the villagers would leave offerings of milk, honey, and fruit at her stall, hoping to catch a glimpse of her mystical powers.\n",
      "\n",
      "As Kusi grew older, her powers only grew stronger. She could sense the emotions of those around her, and she could calm the most troubled of minds. The villagers would often seek her out when they needed guidance or comfort, and Kusi would always be there to listen.\n",
      "\n",
      "One day, a young"
     ]
    }
   ],
   "source": [
    "import requests\n",
    "import json\n",
    "\n",
    "prompt = \"tell me a story about a magical llama\"\n",
    "api_url = 'http://localhost:8000/v1/chat/completions'\n",
    "\n",
    "messages = [{\"role\": \"user\", \"content\": prompt}]\n",
    "data = {    \n",
    "    \"messages\": messages,    \n",
    "    \"max_tokens\": 200,\n",
    "    \"temperature\": 1,\n",
    "    \"min_p\": 0.1,\n",
    "    \"stream\": True,\n",
    "    \"adjustment_strength\": 100,\n",
    "    \"slop_phrases\": [[\"a testament to\", 0.3], [\"llama\", 0.1]]\n",
    "}\n",
    "\n",
    "try:\n",
    "    # Using `stream=True` to handle the response as a stream of data\n",
    "    response = requests.post(api_url, json=data, stream=True, timeout=30)\n",
    "    #print(response)\n",
    "    \n",
    "    # Read and print the stream of data in chunks\n",
    "    for chunk in response.iter_lines():\n",
    "        if chunk:\n",
    "            decoded_chunk = chunk.decode('utf-8')\n",
    "            # OpenAI streams responses in `data: {json}` format, so we need to parse that\n",
    "            if decoded_chunk.startswith('data:'):\n",
    "                try:\n",
    "                    json_data = json.loads(decoded_chunk[len('data: '):])  # Remove 'data: ' prefix\n",
    "                    if 'choices' in json_data and len(json_data['choices']) > 0:\n",
    "                        print(json_data['choices'][0]['delta'].get('content', ''), end='', flush=True)\n",
    "                except json.JSONDecodeError as e:\n",
    "                    print(f\"Error decoding JSON: {e}\")\n",
    "except Exception as e:\n",
    "    print(f\"An error occurred: {e}\")\n"
   ]
  },
  {
   "cell_type": "code",
   "execution_count": 7,
   "metadata": {},
   "outputs": [
    {
     "name": "stdout",
     "output_type": "stream",
     "text": [
      "<|start_header_id|>assistant<|end_header_id|>\n",
      "\n",
      "Once upon a time, in the rolling hills of a small village nestled in the Andes mountains, there lived a beautiful and mysterious llama named Luna. Luna was no ordinary llama, for she possessed a special gift - the power to weave magical threads from the softest, most vibrant yarns that grew only under the light of the full moon.\n",
      "\n",
      "Every evening, as the villagers would gather around the fire to tell stories and share tales of their adventures, Luna would sneak out of the village and roam the mountainsides, gathering the most radiant and extraordinary threads of yarn. These threads were imbued with the magic of the Andes, and when woven into her fleece, they would grant the wearer incredible powers.\n",
      "\n",
      "The villagers would marvel at the way Luna's fleece shone like the brightest stars on a clear night sky. Some claimed that she could heal the sick and injured, while others whispered that she could bring good fortune and prosperity to those who wore her garments. Some even believed that\n"
     ]
    }
   ],
   "source": [
    "try:\n",
    "    data = {    \n",
    "        \"messages\": messages,    \n",
    "        \"max_tokens\": 200,\n",
    "        \"temperature\": 1,\n",
    "        \"min_p\": 0.1,\n",
    "        \"stream\": False,\n",
    "        \"adjustment_strength\": 100,\n",
    "        \"slop_phrases\": [[\"a testament to\", 0.3], [\"kusi\", 0.1]]\n",
    "    }\n",
    "    \n",
    "    # Using `stream=True` to handle the response as a stream of data\n",
    "    response = requests.post(api_url, json=data, stream=False, timeout=30)\n",
    "    data = response.json()\n",
    "    print(data['choices'][0]['message']['content'])\n",
    "    #print(data['message'])\n",
    "    \n",
    "except Exception as e:\n",
    "    print(f\"An error occurred: {e}\")\n"
   ]
  }
 ],
 "metadata": {
  "kernelspec": {
   "display_name": "Python 3",
   "language": "python",
   "name": "python3"
  },
  "language_info": {
   "codemirror_mode": {
    "name": "ipython",
    "version": 3
   },
   "file_extension": ".py",
   "mimetype": "text/x-python",
   "name": "python",
   "nbconvert_exporter": "python",
   "pygments_lexer": "ipython3",
   "version": "3.10.6"
  }
 },
 "nbformat": 4,
 "nbformat_minor": 2
}
