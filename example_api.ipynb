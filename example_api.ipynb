{
 "cells": [
  {
   "cell_type": "code",
   "execution_count": null,
   "metadata": {},
   "outputs": [],
   "source": [
    "# First start the server:\n",
    "# python run_api.py --model unsloth/Llama-3.2-1B-Instruct"
   ]
  },
  {
   "cell_type": "code",
   "execution_count": 8,
   "metadata": {},
   "outputs": [
    {
     "name": "stdout",
     "output_type": "stream",
     "text": [
      "<|eot_id|>llamaassistant\n",
      "\n",
      "Once upon a time, in a small village nestled in the Andes mountains, there lived a young girl named Kusi. She was known throughout the village for her kind heart and her ability to communicate with animals. One day, while exploring the outskirts of the village, Kusi stumbled upon a hidden path she had never seen before. The path was overgrown with vines and shrubs, and it seemed to lead to a secret place that few villagers knew about.\n",
      "\n",
      "As she wandered down the path, the air grew sweeter and the trees grew taller, casting dappled shadows on the ground. The air was filled with the sweet scent of blooming flowers, and Kusi felt a sense of wonder and excitement that she had never experienced before.\n",
      "\n",
      "Suddenly, the path opened up to a clearing, and in the center of the clearing stood an enormous, ancient tree. The tree was unlike any Kusi had ever seen before, for its trunk was covered in glittering silver"
     ]
    }
   ],
   "source": [
    "import requests\n",
    "import json\n",
    "\n",
    "prompt = \"tell me a story about a magical llama\"\n",
    "api_url = 'http://localhost:8000/v1/chat/completions'\n",
    "\n",
    "messages = [{\"role\": \"user\", \"content\": prompt}]\n",
    "data = {    \n",
    "    \"messages\": messages,    \n",
    "    \"max_tokens\": 200,\n",
    "    \"temperature\": 1,\n",
    "    \"min_p\": 0.1,\n",
    "    \"stream\": True,\n",
    "    \"adjustment_strength\": 100,\n",
    "    \"slop_phrases\": [[\"a testament to\", 0.3], [\"llama\", 0.1]]\n",
    "}\n",
    "\n",
    "try:\n",
    "    # Using `stream=True` to handle the response as a stream of data\n",
    "    response = requests.post(api_url, json=data, stream=True, timeout=30)\n",
    "    #print(response)\n",
    "    \n",
    "    # Read and print the stream of data in chunks\n",
    "    for chunk in response.iter_lines():\n",
    "        if chunk:\n",
    "            decoded_chunk = chunk.decode('utf-8')\n",
    "            # OpenAI streams responses in `data: {json}` format, so we need to parse that\n",
    "            if decoded_chunk.startswith('data:'):\n",
    "                try:\n",
    "                    json_data = json.loads(decoded_chunk[len('data: '):])  # Remove 'data: ' prefix\n",
    "                    if 'choices' in json_data and len(json_data['choices']) > 0:\n",
    "                        print(json_data['choices'][0]['delta'].get('content', ''), end='', flush=True)\n",
    "                except json.JSONDecodeError as e:\n",
    "                    print(f\"Error decoding JSON: {e}\")\n",
    "except Exception as e:\n",
    "    print(f\"An error occurred: {e}\")\n"
   ]
  },
  {
   "cell_type": "code",
   "execution_count": 10,
   "metadata": {},
   "outputs": [
    {
     "name": "stdout",
     "output_type": "stream",
     "text": [
      "<|eot_id|>llamaassistant\n",
      "\n",
      "Once upon a time, in the Andes Mountains of South America, there was a small, mysterious llama named Luna. She lived on a secluded farm with her owner, a kind old farmer named Carlos. Carlos had always been drawn to Luna's ethereal beauty and gentle nature. He had named her Luna, after the Latin word for moon, and she quickly became his beloved companion.\n",
      "\n",
      "Luna possessed a secret: she was magical. No one knew how, but it was as if the stars and the wind had imbued her with a spark of the divine. Carlos would often whisper secrets to her, and to his amazement, Luna would respond in a soft, melodious voice.\n",
      "\n",
      "One day, a fierce storm rolled in over the mountains, bringing heavy rains and powerful winds. Carlos, worried about the storm's impact on his crops, called upon Luna to help. He wrapped his arms around her neck and said, \"Luna, my dear one, I\n"
     ]
    }
   ],
   "source": [
    "try:\n",
    "    data = {    \n",
    "        \"messages\": messages,    \n",
    "        \"max_tokens\": 200,\n",
    "        \"temperature\": 1,\n",
    "        \"min_p\": 0.1,\n",
    "        \"stream\": False,\n",
    "        \"adjustment_strength\": 100,\n",
    "        \"slop_phrases\": [[\"a testament to\", 0.3], [\"kusi\", 0.1]]\n",
    "    }\n",
    "    \n",
    "    # Using `stream=True` to handle the response as a stream of data\n",
    "    response = requests.post(api_url, json=data, stream=False, timeout=30)\n",
    "    data = response.json()\n",
    "    print(data['choices'][0]['message']['content'])\n",
    "    #print(data['message'])\n",
    "    \n",
    "except Exception as e:\n",
    "    print(f\"An error occurred: {e}\")\n"
   ]
  }
 ],
 "metadata": {
  "kernelspec": {
   "display_name": "Python 3",
   "language": "python",
   "name": "python3"
  },
  "language_info": {
   "codemirror_mode": {
    "name": "ipython",
    "version": 3
   },
   "file_extension": ".py",
   "mimetype": "text/x-python",
   "name": "python",
   "nbconvert_exporter": "python",
   "pygments_lexer": "ipython3",
   "version": "3.10.6"
  }
 },
 "nbformat": 4,
 "nbformat_minor": 2
}
