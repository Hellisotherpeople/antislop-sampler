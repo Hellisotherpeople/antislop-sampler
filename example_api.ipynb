{
 "cells": [
  {
   "cell_type": "code",
   "execution_count": 5,
   "metadata": {},
   "outputs": [],
   "source": [
    "# First start the server:\n",
    "# python run_api.py --model unsloth/Llama-3.2-1B-Instruct\n",
    "# \n",
    "# Or with default slop phrase list (will be used with all queries unless slop_phrases is specified in the query):\n",
    "# python run_api.py --model unsloth/Llama-3.2-1B-Instruct --slop_adjustments_file slop_phrase_prob_adjustments.json"
   ]
  },
  {
   "cell_type": "code",
   "execution_count": null,
   "metadata": {},
   "outputs": [],
   "source": [
    "# Important:\n",
    "# \n",
    "# No slop adjustments will be applied if:\n",
    "#  - no slop_adjustments_file specified at API launch \n",
    "#  and\n",
    "#  - no slop_phrases param specified in the query\n",
    "#\n",
    "# If you specified a slop_adjustments_file file at API launch, it will be used by default with queries\n",
    "# that do not specify a slop_phrases param. The query's slop_phrases param overrides the defaults."
   ]
  },
  {
   "cell_type": "code",
   "execution_count": 1,
   "metadata": {},
   "outputs": [
    {
     "name": "stdout",
     "output_type": "stream",
     "text": [
      "Once upon a time, in the Andes mountains of South America, there lived a young Andean shepherd named Kusi. Kusi lived in a small village surrounded by lush green hills and towering mountains. She was a skilled weaver and her warm woolen garments were famous throughout the region for their softness and warmth.\n",
      "\n",
      "One day, while out herding sheep, Kusi stumbled upon a mysterious and ancient cave. The entrance was hidden behind a thick veil of mist, and the air around it seemed to vibrate with an otherworldly energy. Intrigued, Kusi stepped inside, and as she did, she felt a strange sensation wash over her.\n",
      "\n",
      "Suddenly, a low, rumbling voice echoed through the cave, and Kusi saw a magnificent creature emerge from the shadows. It was a magical creature unlike any Kusi had ever seen – its fleece shimmered with an iridescent glow, and its eyes sparkled like the stars on a clear night.\n",
      "\n",
      "The creature introduced himself"
     ]
    }
   ],
   "source": [
    "import requests\n",
    "import json\n",
    "\n",
    "prompt = \"tell me a story about a magical llama\"\n",
    "api_url = 'http://localhost:8000/v1/chat/completions'\n",
    "\n",
    "messages = [{\"role\": \"user\", \"content\": prompt}]\n",
    "data = {\n",
    "    \"messages\": messages,    \n",
    "    \"max_tokens\": 200,\n",
    "    \"temperature\": 1,\n",
    "    \"min_p\": 0.1,\n",
    "    \"stream\": True,\n",
    "    \"adjustment_strength\": 100,\n",
    "    \"slop_phrases\": [[\"a testament to\", 0.3], [\"llama\", 0.1]] # this overrides the default list\n",
    "}\n",
    "\n",
    "try:\n",
    "    # Using `stream=True` to handle the response as a stream of data\n",
    "    response = requests.post(api_url, json=data, stream=True, timeout=30)\n",
    "    #print(response)\n",
    "    \n",
    "    # Read and print the stream of data in chunks\n",
    "    for chunk in response.iter_lines():\n",
    "        if chunk:\n",
    "            decoded_chunk = chunk.decode('utf-8')\n",
    "            # OpenAI streams responses in `data: {json}` format, so we need to parse that\n",
    "            if decoded_chunk.startswith('data:'):\n",
    "                try:\n",
    "                    json_data = json.loads(decoded_chunk[len('data: '):])  # Remove 'data: ' prefix\n",
    "                    if 'choices' in json_data and len(json_data['choices']) > 0:\n",
    "                        print(json_data['choices'][0]['delta'].get('content', ''), end='', flush=True)\n",
    "                except json.JSONDecodeError as e:\n",
    "                    print(f\"Error decoding JSON: {e}\")\n",
    "except Exception as e:\n",
    "    print(f\"An error occurred: {e}\")\n"
   ]
  },
  {
   "cell_type": "code",
   "execution_count": 52,
   "metadata": {},
   "outputs": [
    {
     "name": "stdout",
     "output_type": "stream",
     "text": [
      "In the heart of the Andes, where the sun dipped into the horizon and painted the sky with hues of crimson and gold, there lived a magical llama named Luna. She was a creature of mystery and wonder, with a coat as white as snow and eyes that shone like stars in the night sky.\n",
      "\n",
      "Luna lived in a small village surrounded by vast, green meadows and towering mountains. The villagers revered her as a symbol of good fortune and prosperity, for she was said to possess the power to bring fertility to the land and prosperity to those who treated her with kindness.\n",
      "\n",
      "As a young cria, Luna had been born with a special gift – the ability to communicate with the spirits of the land. She could hear the whispers of the wind, the songs of the birds, and the whispers of the ancient trees. These spirits would often share with her the secrets of the universe, and Luna would use this knowledge to help her people.\n",
      "\n",
      "One day, a great drought struck the land, and\n"
     ]
    }
   ],
   "source": [
    "try:\n",
    "    data = {    \n",
    "        \"messages\": messages,    \n",
    "        \"max_tokens\": 200,\n",
    "        \"temperature\": 1,\n",
    "        \"min_p\": 0.1,\n",
    "        \"stream\": False,\n",
    "        \"adjustment_strength\": 100,\n",
    "        \"slop_phrases\": [[\"a testament to\", 0.3], [\"kusi\", 0.1]]\n",
    "    }\n",
    "    \n",
    "    # Using `stream=True` to handle the response as a stream of data\n",
    "    response = requests.post(api_url, json=data, stream=False, timeout=30)\n",
    "    data = response.json()\n",
    "    print(data['choices'][0]['message']['content'])\n",
    "    #print(data['message'])\n",
    "    \n",
    "except Exception as e:\n",
    "    print(f\"An error occurred: {e}\")\n"
   ]
  },
  {
   "cell_type": "code",
   "execution_count": null,
   "metadata": {},
   "outputs": [],
   "source": []
  },
  {
   "cell_type": "code",
   "execution_count": 53,
   "metadata": {},
   "outputs": [
    {
     "name": "stdout",
     "output_type": "stream",
     "text": [
      "In the heart of a mystical Andean village, there lived a legend about a magical llama named Luna. Her coat shone like the moon, and her eyes glowed with an ethereal light that seemed to hold the secrets of the universe. Luna was no ordinary llama – she possessed the power to heal the sick, grant wisdom to those who sought it, and even bend the fabric of time to bring peace to those who were troubled.\n",
      "\n",
      "One day, a young girl named Sophia wandered into the village, searching for her ailing mother. Sophia's mother had fallen gravely ill, and the village healer had exhausted all his remedies. Desperate for a solution, Sophia set out to find the legendary magical llama, Luna.\n",
      "\n",
      "As she trekked through the high-altitude grasslands, Sophia encountered many creatures – the majestic condors soaring above, the chattering vicuñas below, and the gentle guanacos grazing in the distance. But none of them led her to Luna, until finally"
     ]
    }
   ],
   "source": [
    "# Default slop list example\n",
    "#\n",
    "# If the user hasn't specified a list of slop phrases & adjustments in their \n",
    "# query, then it will default to use whatever you specified in the\n",
    "# --slop_adjustments_file argument when launching the api.\n",
    "#\n",
    "# If you didn't specify anything, it won't make any adjustments unless the\n",
    "# user specifies their adjustments in their query.\n",
    "\n",
    "prompt = \"tell me a story about a magical llama\"\n",
    "api_url = 'http://localhost:8000/v1/chat/completions'\n",
    "\n",
    "messages = [{\"role\": \"user\", \"content\": prompt}]\n",
    "data = {    \n",
    "    \"messages\": messages,    \n",
    "    \"max_tokens\": 200,\n",
    "    \"temperature\": 1,\n",
    "    \"min_p\": 0.1,\n",
    "    \"stream\": True,\n",
    "    \"adjustment_strength\": 100,\n",
    "}\n",
    "\n",
    "try:\n",
    "    # Using `stream=True` to handle the response as a stream of data\n",
    "    response = requests.post(api_url, json=data, stream=True, timeout=30)\n",
    "    #print(response)\n",
    "    \n",
    "    # Read and print the stream of data in chunks\n",
    "    for chunk in response.iter_lines():\n",
    "        if chunk:\n",
    "            decoded_chunk = chunk.decode('utf-8')\n",
    "            # OpenAI streams responses in `data: {json}` format, so we need to parse that\n",
    "            if decoded_chunk.startswith('data:'):\n",
    "                try:\n",
    "                    json_data = json.loads(decoded_chunk[len('data: '):])  # Remove 'data: ' prefix\n",
    "                    if 'choices' in json_data and len(json_data['choices']) > 0:\n",
    "                        print(json_data['choices'][0]['delta'].get('content', ''), end='', flush=True)\n",
    "                except json.JSONDecodeError as e:\n",
    "                    print(f\"Error decoding JSON: {e}\")\n",
    "except Exception as e:\n",
    "    print(f\"An error occurred: {e}\")"
   ]
  }
 ],
 "metadata": {
  "kernelspec": {
   "display_name": "Python 3",
   "language": "python",
   "name": "python3"
  },
  "language_info": {
   "codemirror_mode": {
    "name": "ipython",
    "version": 3
   },
   "file_extension": ".py",
   "mimetype": "text/x-python",
   "name": "python",
   "nbconvert_exporter": "python",
   "pygments_lexer": "ipython3",
   "version": "3.10.6"
  }
 },
 "nbformat": 4,
 "nbformat_minor": 2
}
